{
 "cells": [
  {
   "cell_type": "markdown",
   "metadata": {
    "toc": true
   },
   "source": [
    "<h1>Table of Contents<span class=\"tocSkip\"></span></h1>\n",
    "<div class=\"toc\"><ul class=\"toc-item\"><li><span><a href=\"#define-base-class-for-policy\" data-toc-modified-id=\"define-base-class-for-policy-1\"><span class=\"toc-item-num\">1&nbsp;&nbsp;</span>define base class for policy</a></span></li><li><span><a href=\"#define-base-class-for-Q-Learning\" data-toc-modified-id=\"define-base-class-for-Q-Learning-2\"><span class=\"toc-item-num\">2&nbsp;&nbsp;</span>define base class for Q Learning</a></span></li><li><span><a href=\"#Class-for-Experience-Replay-Buffer\" data-toc-modified-id=\"Class-for-Experience-Replay-Buffer-3\"><span class=\"toc-item-num\">3&nbsp;&nbsp;</span>Class for Experience Replay Buffer</a></span></li><li><span><a href=\"#DQN-Policy\" data-toc-modified-id=\"DQN-Policy-4\"><span class=\"toc-item-num\">4&nbsp;&nbsp;</span>DQN Policy</a></span></li><li><span><a href=\"#Define-Experiment-Function\" data-toc-modified-id=\"Define-Experiment-Function-5\"><span class=\"toc-item-num\">5&nbsp;&nbsp;</span>Define Experiment Function</a></span></li><li><span><a href=\"#Train-and-run-policy-for-Taxi-V2\" data-toc-modified-id=\"Train-and-run-policy-for-Taxi-V2-6\"><span class=\"toc-item-num\">6&nbsp;&nbsp;</span>Train and run policy for Taxi V2</a></span></li><li><span><a href=\"#Train-and-run-Policy-for-FrozenLake\" data-toc-modified-id=\"Train-and-run-Policy-for-FrozenLake-7\"><span class=\"toc-item-num\">7&nbsp;&nbsp;</span>Train and run Policy for FrozenLake</a></span></li><li><span><a href=\"#Train-and-run-Policy-for-CartPole\" data-toc-modified-id=\"Train-and-run-Policy-for-CartPole-8\"><span class=\"toc-item-num\">8&nbsp;&nbsp;</span>Train and run Policy for CartPole</a></span></li><li><span><a href=\"#Further-Work\" data-toc-modified-id=\"Further-Work-9\"><span class=\"toc-item-num\">9&nbsp;&nbsp;</span>Further Work</a></span></li></ul></div>"
   ]
  },
  {
   "cell_type": "code",
   "execution_count": 1,
   "metadata": {},
   "outputs": [
    {
     "name": "stdout",
     "output_type": "stream",
     "text": [
      "OpenAI Gym: 0.10.9\n",
      "NumPy: 1.15.4\n"
     ]
    }
   ],
   "source": [
    "import gym\n",
    "print('OpenAI Gym:',gym.__version__)\n",
    "import numpy as np\n",
    "print('NumPy:',np.__version__)\n",
    "import matplotlib.pyplot as plt"
   ]
  },
  {
   "cell_type": "markdown",
   "metadata": {},
   "source": [
    "## define base class for policy"
   ]
  },
  {
   "cell_type": "code",
   "execution_count": 2,
   "metadata": {},
   "outputs": [],
   "source": [
    "class policy():\n",
    "    def __init__(self):\n",
    "        self.debug = False\n",
    "        self.learn_mode = False"
   ]
  },
  {
   "cell_type": "markdown",
   "metadata": {},
   "source": [
    "## define base class for Q Learning"
   ]
  },
  {
   "cell_type": "code",
   "execution_count": 3,
   "metadata": {},
   "outputs": [],
   "source": [
    "class policy_q(policy):\n",
    "    def __init__(self,\n",
    "                 nS,\n",
    "                 nA,\n",
    "                 discount_rate=0.9,\n",
    "                 learning_rate=0.8,\n",
    "                 explore_rate_max=0.9,\n",
    "                 explore_rate_min=0.01,\n",
    "                 explore_rate_decay=0.005):\n",
    "        super().__init__()\n",
    "        self.dr = discount_rate\n",
    "        self.lr = learning_rate\n",
    "        self.er = explore_rate_max\n",
    "        self.er_max = explore_rate_max\n",
    "        self.er_min = explore_rate_min\n",
    "        self.er_decay = explore_rate_decay\n",
    "\n",
    "        if not isinstance(nS, np.ndarray):\n",
    "            self.nS = np.array(nS)\n",
    "        else:\n",
    "            self.nS = nS\n",
    "        if not isinstance(nA, np.ndarray):\n",
    "            self.nA = np.array(nA)\n",
    "        else:\n",
    "            self.nA = nA\n",
    "\n",
    "    def max_er(self, er_max=None):\n",
    "        if er_max is not None:\n",
    "            self.er_max = er_max\n",
    "        self.er = self.er_max\n",
    "        return self.er\n",
    "\n",
    "    def zero_er(self):\n",
    "        self.er = 0.0\n",
    "        return self.er\n",
    "\n",
    "    def decay_er(self, step):\n",
    "        self.er = self.er_min + (\n",
    "            self.er_max - self.er_min) * np.exp(\n",
    "            -self.er_decay * step)\n",
    "        if self.debug:\n",
    "            print('New er after decay:', self.er)\n",
    "        return self.er"
   ]
  },
  {
   "cell_type": "markdown",
   "metadata": {},
   "source": [
    "## Class for Experience Replay Buffer"
   ]
  },
  {
   "cell_type": "code",
   "execution_count": 4,
   "metadata": {},
   "outputs": [],
   "source": [
    "import random\n",
    "random.seed(123)\n",
    "\n",
    "class Memory():\n",
    "    def __init__(self, capacity):\n",
    "        self.cap = capacity\n",
    "        self.mem = []\n",
    "        self.ptr = 0\n",
    "\n",
    "    def append(self, item):\n",
    "        if len(self.mem) < self.cap:\n",
    "            self.mem.append(None)\n",
    "        self.mem[self.ptr] = item\n",
    "        self.ptr = (self.ptr + 1) % self.cap\n",
    "\n",
    "    def sample(self, size):\n",
    "        return random.sample(self.mem, size)\n",
    "\n",
    "    def __len__(self):\n",
    "        return len(self.mem)"
   ]
  },
  {
   "cell_type": "markdown",
   "metadata": {},
   "source": [
    "## DQN Policy"
   ]
  },
  {
   "cell_type": "code",
   "execution_count": 5,
   "metadata": {},
   "outputs": [],
   "source": [
    "import torch\n",
    "\n",
    "class PolicyDQN(policy_q):\n",
    "    def __init__(self,\n",
    "                 nS,\n",
    "                 nA,\n",
    "                 discount_rate=0.9,\n",
    "                 learning_rate=0.8,\n",
    "                 explore_rate_max=0.9,\n",
    "                 explore_rate_min=0.01,\n",
    "                 explore_rate_decay=0.005):\n",
    "        super().__init__(nS, nA, discount_rate, learning_rate,\n",
    "                         explore_rate_max, explore_rate_min,\n",
    "                         explore_rate_decay)\n",
    "        self.__name__ = 'DQN'\n",
    "        self.device = torch.device('cuda' if torch.cuda.\n",
    "                                   is_available() else 'cpu')\n",
    "        # TODO make batch size passable\n",
    "        self.batch_size = 512\n",
    "        self.tnet_update_threshold = 10 \n",
    "        \n",
    "        memory_capacity = self.batch_size * 100\n",
    "\n",
    "        # create the empty list to contain game memory\n",
    "        #        from collections import deque\n",
    "        #        self.memory = deque(maxlen=memory_len)\n",
    "        self.memory = Memory(memory_capacity)\n",
    "\n",
    "        # create a q-nn of shape (S X A)\n",
    "        # representing S X A -> R\n",
    "        self.policy_net = self.build_nn()\n",
    "        self.optimizer = torch.optim.RMSprop(self.policy_net.parameters())\n",
    "        \n",
    "        self.target_net = self.build_nn()\n",
    "        self.update_target_net()\n",
    "        self.target_net.eval()\n",
    "\n",
    "        self.loss_fn = torch.nn.MSELoss()\n",
    "\n",
    "    def build_nn(self):\n",
    "        model = torch.nn.Sequential(\n",
    "            torch.nn.Linear(self.nS, 512), torch.nn.ReLU(),\n",
    "            torch.nn.Linear(512, 512), torch.nn.ReLU(),\n",
    "            torch.nn.Linear(512, self.nA)).to(self.device)\n",
    "        return model\n",
    "\n",
    "    def get_action(self, s):\n",
    "        # Exploration - Select a random action\n",
    "        if self.learn_mode and np.random.random() < self.er:\n",
    "            a = random.randrange(self.nA)\n",
    "        # Exploitation - Select the action with the highest q\n",
    "        else:\n",
    "            with torch.no_grad():\n",
    "                s = torch.tensor([s],\n",
    "                                   dtype=torch.float,\n",
    "                                   device=self.device)\n",
    "                a = self.policy_net(s).argmax().item()\n",
    "        return a\n",
    "\n",
    "    def update(self, s, a, r, s_, done):\n",
    "        # add the s,a,r,s_ to memory\n",
    "        if done:\n",
    "            s_ = None\n",
    "        self.memory.append([list(s) if isinstance(s,np.ndarray) else [s], \n",
    "                            [a], [r], \n",
    "                            list(s_) if isinstance(s_,np.ndarray) else [s_]])\n",
    "        if len(self.memory) >= self.batch_size:\n",
    "            sample = self.memory.sample(self.batch_size)\n",
    "            ss, aa, rr, ss_ = zip(*sample)\n",
    "\n",
    "            ss = torch.tensor(ss, dtype=torch.float, device=self.device)\n",
    "            aa = torch.tensor(aa, dtype=torch.long, device=self.device)\n",
    "            rr = torch.tensor(rr, dtype=torch.float, device=self.device)\n",
    "                    \n",
    "            nt_mask = torch.tensor(\n",
    "                tuple(map(lambda st: st[0] is not None, \n",
    "                          ss_)\n",
    "                     ), \n",
    "                dtype=torch.uint8)\n",
    "            nt_ss_ = torch.tensor([st for st in ss_ if \\\n",
    "                                   st[0] is not None],\n",
    "                                  dtype=torch.float,\n",
    "                                  device=self.device)\n",
    "\n",
    "            v_s_ = torch.zeros(\n",
    "                len(ss_), 1, device=self.device)\n",
    "            v_s_[nt_mask] = self.target_net(\n",
    "                nt_ss_).detach().max(1)[0].unsqueeze(1)\n",
    "            e_q_sa = rr + (self.dr * v_s_)\n",
    "            \n",
    "            q_sa = self.policy_net(ss).gather(1, aa)\n",
    "\n",
    "            loss = self.loss_fn(q_sa, e_q_sa)\n",
    "            self.optimizer.zero_grad()\n",
    "            loss.backward()\n",
    "            self.optimizer.step()\n",
    "            \n",
    "    def update_target_net(self):\n",
    "        self.target_net.load_state_dict(self.policy_net.state_dict())"
   ]
  },
  {
   "cell_type": "markdown",
   "metadata": {},
   "source": [
    "## Define Experiment Function"
   ]
  },
  {
   "cell_type": "code",
   "execution_count": 6,
   "metadata": {},
   "outputs": [],
   "source": [
    "# t_max = 0 : run until done\n",
    "# t_max > 0 : run each episode for t_max steps at max\n",
    "# g_max = 0 : run until done\n",
    "# g_max > 0 : run each episode for g_max return at max\n",
    "from tqdm import trange\n",
    "import sys\n",
    "def experiment(env, policy, n_episodes=1, g_max=0, t_max=0, r_max=0, learn_mode = False, debug=False):\n",
    "\n",
    "    returns = np.zeros(shape=(n_episodes))\n",
    "    policy.learn_mode = learn_mode\n",
    "\n",
    "    for i in trange(n_episodes, file=sys.stdout, dynamic_ncols=True ):\n",
    "        #1. observe initial state\n",
    "        s = env.reset()\n",
    "\n",
    "        # initialize the counters\n",
    "        done = False\n",
    "        g = 0\n",
    "        t = 0\n",
    "        while not done:\n",
    "\n",
    "            #2. select an action, and observe the next state\n",
    "            a = policy.get_action(s)\n",
    "            s_, r, done, _ = env.step(a)\n",
    "                \n",
    "            if debug:\n",
    "                print('SARS=',s,a,r,s_, done)\n",
    "                #env.render()\n",
    "            \n",
    "            #3. update the policy internals\n",
    "            #if policy.learn_mode:\n",
    "            policy.update(s,a,r,s_, done)\n",
    "\n",
    "            # set next state as current state\n",
    "            s = s_\n",
    "\n",
    "            # update the counters\n",
    "            g += r\n",
    "            t += 1\n",
    "            \n",
    "            if r_max > 0 and r >= r_max:\n",
    "                break\n",
    "            if g_max > 0 and g >= g_max:\n",
    "                break\n",
    "            if t_max > 0 and t >= t_max:\n",
    "                break\n",
    "\n",
    "        returns[i] = g\n",
    "        if debug and (i + 1) % 100 == 0:\n",
    "            print(\n",
    "                'E#={}, G= Mean:{:0.2f},Min:{:0.2f},Max:{:0.2f}'\n",
    "                .format(i+1, \n",
    "                        returns[:i].mean(),\n",
    "                        returns[:i].min(), \n",
    "                        returns[:i].max()))\n",
    "        if policy.learn_mode:\n",
    "            # decay the epsilon i.e. explore rate\n",
    "            policy.decay_er(i)\n",
    "        if (i+1) % policy.tnet_update_threshold == 0:\n",
    "            policy.update_target_net()\n",
    "    if n_episodes > 1:\n",
    "        print(\n",
    "            'Policy:{}, E\\'s={}, G= Mean:{:0.2f},Min:{:0.2f},Max:{:0.2f}'.\n",
    "            format(policy.__name__, n_episodes, np.mean(returns),\n",
    "                   np.min(returns), np.max(returns)))\n",
    "        plt.plot(returns)\n",
    "        plt.title('Environment {} with algo {}'.format(env.spec.id,policy.__name__))\n",
    "        plt.xlabel('Episode #')\n",
    "        plt.ylabel('Cumulative Rewards (G)')\n",
    "        plt.show()\n",
    "    else:\n",
    "        print('Policy:{}, G= {}'.format(policy.__name__, returns[0]))\n",
    "    return returns"
   ]
  },
  {
   "cell_type": "markdown",
   "metadata": {},
   "source": [
    "## Train and run policy for Taxi V2"
   ]
  },
  {
   "cell_type": "code",
   "execution_count": 7,
   "metadata": {
    "scrolled": false
   },
   "outputs": [
    {
     "name": "stderr",
     "output_type": "stream",
     "text": [
      "/opt/anaconda3/lib/python3.6/site-packages/gym/envs/registration.py:14: PkgResourcesDeprecationWarning: Parameters to load are deprecated.  Call .resolve and .require separately.\n",
      "  result = entry_point.load(False)\n"
     ]
    },
    {
     "name": "stdout",
     "output_type": "stream",
     "text": [
      "training policies\n",
      "100%|██████████| 10000/10000 [1:44:31<00:00,  1.63it/s]\n",
      "Policy:DQN, E's=10000, G= Mean:-215.88,Min:-1658.00,Max:-26.00\n"
     ]
    },
    {
     "data": {
      "image/png": "[encoded data removed]",
      "text/plain": [
       "<Figure size 432x288 with 1 Axes>"
      ]
     },
     "metadata": {
      "needs_background": "light"
     },
     "output_type": "display_data"
    },
    {
     "name": "stdout",
     "output_type": "stream",
     "text": [
      "using trained policies\n",
      "100%|██████████| 10/10 [00:06<00:00,  1.62it/s]\n",
      "Policy:DQN, E's=10, G= Mean:-200.00,Min:-200.00,Max:-200.00\n"
     ]
    },
    {
     "data": {
      "image/png": "[encoded data removed]",
      "text/plain": [
       "<Figure size 432x288 with 1 Axes>"
      ]
     },
     "metadata": {
      "needs_background": "light"
     },
     "output_type": "display_data"
    }
   ],
   "source": [
    "env=gym.make('Taxi-v2')\n",
    "\n",
    "# remove the seeds to get random plays everytime\n",
    "np.random.seed(123)\n",
    "env.seed(123)\n",
    "\n",
    "policy_dqn = PolicyDQN(1,env.action_space.n)\n",
    "\n",
    "print('training policies')\n",
    "n_episodes = 10000\n",
    "_=experiment(env,policy_dqn, n_episodes, learn_mode=True)\n",
    "\n",
    "print('using trained policies')\n",
    "n_episodes=10\n",
    "_=experiment(env,policy_dqn,n_episodes)\n",
    "\n",
    "env.close()\n",
    "del env\n",
    "del policy_dqn"
   ]
  },
  {
   "cell_type": "markdown",
   "metadata": {},
   "source": [
    "## Train and run Policy for FrozenLake"
   ]
  },
  {
   "cell_type": "code",
   "execution_count": 8,
   "metadata": {
    "scrolled": false
   },
   "outputs": [
    {
     "name": "stdout",
     "output_type": "stream",
     "text": [
      "training policies\n",
      "  1%|          | 69/10000 [00:00<00:16, 601.04it/s]"
     ]
    },
    {
     "name": "stderr",
     "output_type": "stream",
     "text": [
      "/opt/anaconda3/lib/python3.6/site-packages/gym/envs/registration.py:14: PkgResourcesDeprecationWarning: Parameters to load are deprecated.  Call .resolve and .require separately.\n",
      "  result = entry_point.load(False)\n"
     ]
    },
    {
     "name": "stdout",
     "output_type": "stream",
     "text": [
      "100%|██████████| 10000/10000 [04:24<00:00, 37.74it/s]\n",
      "Policy:DQN, E's=10000, G= Mean:0.01,Min:0.00,Max:1.00\n"
     ]
    },
    {
     "data": {
      "image/png": "[encoded data removed]",
      "text/plain": [
       "<Figure size 432x288 with 1 Axes>"
      ]
     },
     "metadata": {
      "needs_background": "light"
     },
     "output_type": "display_data"
    },
    {
     "name": "stdout",
     "output_type": "stream",
     "text": [
      "using trained policies\n",
      "100%|██████████| 10/10 [00:00<00:00, 37.29it/s]\n",
      "Policy:DQN, E's=10, G= Mean:0.00,Min:0.00,Max:0.00\n"
     ]
    },
    {
     "data": {
      "image/png": "[encoded data removed]",
      "text/plain": [
       "<Figure size 432x288 with 1 Axes>"
      ]
     },
     "metadata": {
      "needs_background": "light"
     },
     "output_type": "display_data"
    }
   ],
   "source": [
    "env=gym.make('FrozenLake-v0')\n",
    "\n",
    "# remove the seeds to get random plays everytime\n",
    "np.random.seed(123)\n",
    "env.seed(123)\n",
    "\n",
    "policy_dqn = PolicyDQN(1,env.action_space.n)\n",
    "\n",
    "print('training policies')\n",
    "n_episodes = 10000\n",
    "_=experiment(env,policy_dqn, n_episodes, learn_mode=True)\n",
    "\n",
    "print('using trained policies')\n",
    "n_episodes = 10\n",
    "_=experiment(env,policy_dqn,n_episodes)\n",
    "\n",
    "env.close()\n",
    "del env\n",
    "del policy_dqn"
   ]
  },
  {
   "cell_type": "markdown",
   "metadata": {},
   "source": [
    "## Train and run Policy for CartPole"
   ]
  },
  {
   "cell_type": "code",
   "execution_count": 9,
   "metadata": {},
   "outputs": [
    {
     "name": "stdout",
     "output_type": "stream",
     "text": [
      "training policies\n",
      "100%|██████████| 10000/10000 [52:26<00:00,  2.74it/s] \n",
      "Policy:DQN, E's=10000, G= Mean:96.08,Min:8.00,Max:200.00\n"
     ]
    },
    {
     "data": {
      "image/png": "[encoded data removed]",
      "text/plain": [
       "<Figure size 432x288 with 1 Axes>"
      ]
     },
     "metadata": {
      "needs_background": "light"
     },
     "output_type": "display_data"
    },
    {
     "name": "stdout",
     "output_type": "stream",
     "text": [
      "using trained policies\n",
      "100%|██████████| 10/10 [00:03<00:00,  2.51it/s]\n",
      "Policy:DQN, E's=10, G= Mean:119.00,Min:88.00,Max:165.00\n"
     ]
    },
    {
     "data": {
      "image/png": "[encoded data removed]",
      "text/plain": [
       "<Figure size 432x288 with 1 Axes>"
      ]
     },
     "metadata": {
      "needs_background": "light"
     },
     "output_type": "display_data"
    }
   ],
   "source": [
    "env=gym.make('CartPole-v0')\n",
    "\n",
    "# remove the seeds to get random plays everytime\n",
    "np.random.seed(123)\n",
    "env.seed(123)\n",
    "\n",
    "policy_dqn = PolicyDQN(4,env.action_space.n)\n",
    "\n",
    "print('training policies')\n",
    "n_episodes = 10000\n",
    "_=experiment(env,policy_dqn, n_episodes, learn_mode=True)\n",
    "\n",
    "print('using trained policies')\n",
    "n_episodes = 10\n",
    "_=experiment(env,policy_dqn,n_episodes)\n",
    "\n",
    "env.close()\n",
    "del env\n",
    "del policy_dqn"
   ]
  },
  {
   "cell_type": "markdown",
   "metadata": {},
   "source": [
    "## Further Work"
   ]
  },
  {
   "cell_type": "code",
   "execution_count": 10,
   "metadata": {},
   "outputs": [],
   "source": [
    "# Run the code on PacMan or Pong games after modifying \n",
    "#    to handle image data and use CNN Network.\n"
   ]
  }
 ],
 "metadata": {
  "kernelspec": {
   "display_name": "Python 3",
   "language": "python",
   "name": "python3"
  },
  "language_info": {
   "codemirror_mode": {
    "name": "ipython",
    "version": 3
   },
   "file_extension": ".py",
   "mimetype": "text/x-python",
   "name": "python",
   "nbconvert_exporter": "python",
   "pygments_lexer": "ipython3",
   "version": "3.6.7"
  },
  "toc": {
   "base_numbering": 1,
   "nav_menu": {},
   "number_sections": true,
   "sideBar": true,
   "skip_h1_title": true,
   "title_cell": "Table of Contents",
   "title_sidebar": "Contents",
   "toc_cell": true,
   "toc_position": {},
   "toc_section_display": true,
   "toc_window_display": true
  }
 },
 "nbformat": 4,
 "nbformat_minor": 2
}
